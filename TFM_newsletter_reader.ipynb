{
 "metadata": {
  "language_info": {
   "codemirror_mode": {
    "name": "ipython",
    "version": 3
   },
   "file_extension": ".py",
   "mimetype": "text/x-python",
   "name": "python",
   "nbconvert_exporter": "python",
   "pygments_lexer": "ipython3",
   "version": "3.9.0-final"
  },
  "orig_nbformat": 2,
  "kernelspec": {
   "name": "python3",
   "display_name": "Python 3.9.0 64-bit ('env')",
   "metadata": {
    "interpreter": {
     "hash": "fb83064361a861f30404a56c736035f5f4bd6d546f50dcea4699849bf1fd6680"
    }
   }
  }
 },
 "nbformat": 4,
 "nbformat_minor": 2,
 "cells": [
  {
   "cell_type": "code",
   "execution_count": 12,
   "metadata": {
    "tags": []
   },
   "outputs": [
    {
     "output_type": "stream",
     "name": "stdout",
     "text": [
      "failed but needed tickers: ['ABM', 'CTAS', 'DGICA', 'FAST', 'FUL', 'HAS', 'MATW', 'ORI', 'RJF', 'SSD', 'WABC', 'CPKF', 'CSVI']\n"
     ]
    }
   ],
   "source": [
    "import pandas as pd\n",
    "from dividend_processor_offline import DividendProcessor as DivProc\n",
    "import time\n",
    "import csv\n",
    "import logging\n",
    "import sys\n",
    "import pathlib\n",
    "import os\n",
    "import shutil\n",
    "# iterate over tfm newsletters started from 2019. Get all tickers from all files, then remove duplicates\n",
    "# compare the list with those tickers which failed to process. \n",
    "# A) Either the dividend frequency was not easily determined by shifting dates\n",
    "# B) or no data available fro API\n",
    "# as of 12.02.2021 all failed items were due to A)\n",
    "python_repo_home_folder = pathlib.Path.home() / \"Python\" / \"Python_repos\" / \"dividends\"\n",
    "tfm_newsletter_folder = python_repo_home_folder / \"excel_files\" / \"TFM_newsletter\"\n",
    "\n",
    "# create a list of files in the dripinvesting folder\n",
    "def getListOfFiles(dirName):\n",
    "    listOfFile = os.listdir(dirName)\n",
    "    allFiles = list()\n",
    "    for entry in listOfFile:\n",
    "        fullPath = os.path.join(dirName, entry)\n",
    "        if os.path.isfile(fullPath):\n",
    "            allFiles.append(fullPath)       \n",
    "    return allFiles   \n",
    "     \n",
    "listOfFiles = getListOfFiles(tfm_newsletter_folder.as_posix())\n",
    "# print (listOfFiles)\n",
    "\n",
    "list_of_tickers = []\n",
    "\n",
    "for file in listOfFiles:\n",
    "    newsletter = pd.read_excel(file)\n",
    "    current_ticker_list = newsletter['Ticker'].tolist()\n",
    "    for current_ticker in current_ticker_list:\n",
    "        list_of_tickers.append(current_ticker)\n",
    "\n",
    "df = pd.DataFrame (list_of_tickers,columns=['Ticker'])\n",
    "# dropping duplicate values \n",
    "df = df.drop_duplicates(subset=\"Ticker\") \n",
    "\n",
    "tfm_unique_ticker_list = df['Ticker'].tolist()\n",
    "# print (tfm_unique_ticker_list)\n",
    "# print (len(tfm_unique_ticker_list))\n",
    "\n",
    "failed_to_process_or_download = pd.read_csv(r'C:\\Users\\50000700\\Python\\Python_repos\\dividends\\excel_files\\overall_failed.csv')\n",
    "\n",
    "failed = failed_to_process_or_download['Symbol'].tolist()\n",
    "\n",
    "\n",
    "failed_but_needed = []\n",
    "\n",
    "for ticker in failed:\n",
    "    if ticker in tfm_unique_ticker_list:\n",
    "        failed_but_needed.append(ticker)\n",
    "\n",
    "print (f\"failed but needed tickers: {failed_but_needed}\")\n",
    "\n",
    "\n"
   ]
  }
 ]
}