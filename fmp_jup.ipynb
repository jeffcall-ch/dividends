{
 "metadata": {
  "language_info": {
   "codemirror_mode": {
    "name": "ipython",
    "version": 3
   },
   "file_extension": ".py",
   "mimetype": "text/x-python",
   "name": "python",
   "nbconvert_exporter": "python",
   "pygments_lexer": "ipython3",
   "version": "3.9.0-final"
  },
  "orig_nbformat": 2,
  "kernelspec": {
   "name": "python3",
   "display_name": "Python 3.9.0 64-bit ('env')",
   "metadata": {
    "interpreter": {
     "hash": "fb83064361a861f30404a56c736035f5f4bd6d546f50dcea4699849bf1fd6680"
    }
   }
  }
 },
 "nbformat": 4,
 "nbformat_minor": 2,
 "cells": [
  {
   "cell_type": "code",
   "execution_count": 1,
   "metadata": {},
   "outputs": [],
   "source": [
    "from fmp_python.fmp import FMP\n",
    "import os\n",
    "import pandas as pd\n",
    "\n",
    "os.environ[\"FMP_API_KEY\"] = \"606d643d87241cde956b5cd85a3c56d1\"\n",
    "fmp = FMP()"
   ]
  },
  {
   "cell_type": "code",
   "execution_count": 2,
   "metadata": {
    "tags": []
   },
   "outputs": [],
   "source": [
    "# freeCashFlow\n",
    "# dividendsPaid\n",
    "cfStatement = fmp.get_data_from_api('ABT', 'cash-flow-statement')\n",
    "# set proper DateTime object as the index of the dataframe\n",
    "cfStatement['Datetime'] = pd.to_datetime(cfStatement['date'])\n",
    "cfStatement = cfStatement.set_index('Datetime')\n",
    "\n",
    "# eps\n",
    "# epsdiluted\n",
    "incomeStatement = fmp.get_data_from_api('ABT', 'income-statement')\n",
    "# set proper DateTime object as the index of the dataframe\n",
    "incomeStatement['Datetime'] = pd.to_datetime(incomeStatement['date'])\n",
    "incomeStatement = incomeStatement.set_index('Datetime')\n",
    "\n",
    "# dividendYield  (yearly value) - CAREFUL calulated with NOT today's price, but price of last dividend\n",
    "ratios = fmp.get_data_from_api('ABT', 'ratios')\n",
    "# set proper DateTime object as the index of the dataframe\n",
    "ratios['Datetime'] = pd.to_datetime(ratios['date'])\n",
    "ratios = ratios.set_index('Datetime')\n",
    "\n",
    "\n",
    "# dividenYielTTM  (TTM value) - CAREFUL calulated with NOT today's price, but price of last dividend\n",
    "ratiosTTM = fmp.get_data_from_api('ABT', 'ratios-ttm')\n",
    "\n"
   ]
  },
  {
   "cell_type": "code",
   "execution_count": 3,
   "metadata": {},
   "outputs": [],
   "source": [
    "# dividend, date  - historical dividend values and dates\n",
    "dividends = fmp.get_dividends('ABT', 'historical-price-full/stock_dividend')\n",
    "\n",
    "# set proper DateTime object as the index of the dataframe\n",
    "dividends['Datetime'] = pd.to_datetime(dividends['date'])\n",
    "dividends = dividends.set_index('Datetime')\n",
    "\n",
    "# resample annually and sum dividend values. Note that year end (Dec 31) will be shown for all groups\n",
    "dividends = dividends.resample(\"A\")[\"dividend\"].sum()\n",
    "# dividends.dtypes"
   ]
  },
  {
   "cell_type": "code",
   "execution_count": null,
   "metadata": {},
   "outputs": [],
   "source": []
  }
 ]
}