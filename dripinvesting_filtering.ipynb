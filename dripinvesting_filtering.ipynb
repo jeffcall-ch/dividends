{
 "metadata": {
  "language_info": {
   "codemirror_mode": {
    "name": "ipython",
    "version": 3
   },
   "file_extension": ".py",
   "mimetype": "text/x-python",
   "name": "python",
   "nbconvert_exporter": "python",
   "pygments_lexer": "ipython3",
   "version": "3.9.0-final"
  },
  "orig_nbformat": 2,
  "kernelspec": {
   "name": "python3",
   "display_name": "Python 3.9.0 64-bit ('env')",
   "metadata": {
    "interpreter": {
     "hash": "fb83064361a861f30404a56c736035f5f4bd6d546f50dcea4699849bf1fd6680"
    }
   }
  }
 },
 "nbformat": 4,
 "nbformat_minor": 2,
 "cells": [
  {
   "cell_type": "code",
   "execution_count": 1,
   "metadata": {},
   "outputs": [],
   "source": [
    "import pathlib\n",
    "import pandas as pd\n",
    "import os\n",
    "from SP500_div_yield_crawler import SP500\n",
    "import plotly.express as px\n",
    "\n",
    "python_repo_home_folder = pathlib.Path.home() / \"Python\" / \"Python_repos\" / \"dividends\"\n",
    "dripinvesting_folder = python_repo_home_folder / \"excel_files\" / \"dripinvesting\"\n",
    "\n",
    "def getListOfFiles(dirName):\n",
    "    listOfFile = os.listdir(dirName)\n",
    "    allFiles = list()\n",
    "    for entry in listOfFile:\n",
    "        fullPath = os.path.join(dirName, entry)\n",
    "        if os.path.isfile(fullPath):\n",
    "            allFiles.append(fullPath)       \n",
    "    return allFiles     \n",
    "\n",
    "# import latest dripinvesting excel file into pandas\n",
    "listOfFiles = getListOfFiles(dripinvesting_folder.as_posix())\n",
    "\n",
    "# read the excel file\n",
    "# combine rows 4-5 to be the header. By doing this the real pandas df will start from the header (and you don't need to drop rows..)\n",
    "# note that in case the top cell is empty, then it will use the closest top cell value to the left.\n",
    "# EXAMPLE: \"TickerSymbol\" column (col \"B\" in excel) name is correct. But the next column is empty top cell and \"Sector\" bottom cell (col \"C\" in excel). \n",
    "#           Now it will be \"TickerSector\"\n",
    "df = pd.read_excel(listOfFiles[0], sheet_name='All CCC', header=[4,5])\n",
    "\n",
    "# flatten the multi index header: https://stackoverflow.com/questions/41931332/how-do-i-flatten-a-hierarchical-column-index-in-a-pandas-dataframe\n",
    "df.columns = df.columns.map(lambda x: ''.join([*map(str, x)]))\n"
   ]
  },
  {
   "cell_type": "code",
   "execution_count": 2,
   "metadata": {},
   "outputs": [],
   "source": [
    "# drop last rows of summary where not individual companies are shown but sector performance\n",
    "df = df.dropna(subset=['TickerSector'])\n",
    "\n",
    "# select only rows where DGR is not showing a decreasing trend\n",
    "df = df[(df['DGR1-yr']>=df['DGR3-yr']) & (df['DGR3-yr']>=df['DGR5-yr']) & (df['DGR5-yr']>=df['DGR10-yr'])]\n",
    "\n",
    "df = df[df['No.Yrs']>=10]\n",
    "\n",
    "\n"
   ]
  },
  {
   "cell_type": "code",
   "execution_count": 3,
   "metadata": {},
   "outputs": [
    {
     "output_type": "stream",
     "name": "stdout",
     "text": [
      "1.51\n"
     ]
    }
   ],
   "source": [
    "# crawl S&P500 dividend yield from https://www.multpl.com/s-p-500-dividend-yield\n",
    "sp500 = SP500()\n",
    "print (sp500.get_dividend_yield())"
   ]
  },
  {
   "cell_type": "code",
   "execution_count": 23,
   "metadata": {},
   "outputs": [
    {
     "output_type": "display_data",
     "data": {
      "application/vnd.plotly.v1+json": {
       "config": {
        "plotlyServerURL": "https://plot.ly"
       },
       "data": [
        {
         "hovertemplate": "TickerSymbol=ALE<br>variable=%{x}<br>value=%{y}<extra></extra>",
         "legendgroup": "ALE",
         "line": {
          "color": "#636efa",
          "dash": "solid"
         },
         "mode": "lines",
         "name": "ALE",
         "orientation": "v",
         "showlegend": true,
         "type": "scatter",
         "x": [
          "DGR10-yr",
          "DGR5-yr",
          "DGR3-yr",
          "DGR1-yr",
          "MR%Inc."
         ],
         "xaxis": "x",
         "y": [
          3.447125780527638,
          4.104407501225804,
          4.896515047838035,
          5.106382978723412,
          5.106382978723409
         ],
         "yaxis": "y"
        },
        {
         "hovertemplate": "TickerSymbol=ATO<br>variable=%{x}<br>value=%{y}<extra></extra>",
         "legendgroup": "ATO",
         "line": {
          "color": "#EF553B",
          "dash": "solid"
         },
         "mode": "lines",
         "name": "ATO",
         "orientation": "v",
         "showlegend": true,
         "type": "scatter",
         "x": [
          "DGR10-yr",
          "DGR5-yr",
          "DGR3-yr",
          "DGR1-yr",
          "MR%Inc."
         ],
         "xaxis": "x",
         "y": [
          5.7388439182276985,
          8.126998505909366,
          8.595192098967752,
          9.302325581395365,
          8.695652173913052
         ],
         "yaxis": "y"
        },
        {
         "hovertemplate": "TickerSymbol=AWK<br>variable=%{x}<br>value=%{y}<extra></extra>",
         "legendgroup": "AWK",
         "line": {
          "color": "#00cc96",
          "dash": "solid"
         },
         "mode": "lines",
         "name": "AWK",
         "orientation": "v",
         "showlegend": true,
         "type": "scatter",
         "x": [
          "DGR10-yr",
          "DGR5-yr",
          "DGR3-yr",
          "DGR1-yr",
          "MR%Inc."
         ],
         "xaxis": "x",
         "y": [
          9.848067993574183,
          10.589579817073002,
          10.739499268066277,
          12.53196930946292,
          10.000000000000009
         ],
         "yaxis": "y"
        },
        {
         "hovertemplate": "TickerSymbol=BMY<br>variable=%{x}<br>value=%{y}<extra></extra>",
         "legendgroup": "BMY",
         "line": {
          "color": "#ab63fa",
          "dash": "solid"
         },
         "mode": "lines",
         "name": "BMY",
         "orientation": "v",
         "showlegend": true,
         "type": "scatter",
         "x": [
          "DGR10-yr",
          "DGR5-yr",
          "DGR3-yr",
          "DGR1-yr",
          "MR%Inc."
         ],
         "xaxis": "x",
         "y": [
          3.4680474431194597,
          3.9925333043306255,
          4.885624628838681,
          9.756097560975618,
          8.888888888888884
         ],
         "yaxis": "y"
        },
        {
         "hovertemplate": "TickerSymbol=CINF<br>variable=%{x}<br>value=%{y}<extra></extra>",
         "legendgroup": "CINF",
         "line": {
          "color": "#FFA15A",
          "dash": "solid"
         },
         "mode": "lines",
         "name": "CINF",
         "orientation": "v",
         "showlegend": true,
         "type": "scatter",
         "x": [
          "DGR10-yr",
          "DGR5-yr",
          "DGR3-yr",
          "DGR1-yr",
          "MR%Inc."
         ],
         "xaxis": "x",
         "y": [
          4.061066755408804,
          5.3338899855576605,
          6.026787816164503,
          6.7873303167420795,
          7.142857142857128
         ],
         "yaxis": "y"
        },
        {
         "hovertemplate": "TickerSymbol=CWT<br>variable=%{x}<br>value=%{y}<extra></extra>",
         "legendgroup": "CWT",
         "line": {
          "color": "#19d3f3",
          "dash": "solid"
         },
         "mode": "lines",
         "name": "CWT",
         "orientation": "v",
         "showlegend": true,
         "type": "scatter",
         "x": [
          "DGR10-yr",
          "DGR5-yr",
          "DGR3-yr",
          "DGR1-yr",
          "MR%Inc."
         ],
         "xaxis": "x",
         "y": [
          3.6311209910314224,
          4.874239514341783,
          5.688761756416616,
          7.594936708860756,
          7.594936708860751
         ],
         "yaxis": "y"
        },
        {
         "hovertemplate": "TickerSymbol=DDS<br>variable=%{x}<br>value=%{y}<extra></extra>",
         "legendgroup": "DDS",
         "line": {
          "color": "#FF6692",
          "dash": "solid"
         },
         "mode": "lines",
         "name": "DDS",
         "orientation": "v",
         "showlegend": true,
         "type": "scatter",
         "x": [
          "DGR10-yr",
          "DGR5-yr",
          "DGR3-yr",
          "DGR1-yr",
          "MR%Inc."
         ],
         "xaxis": "x",
         "y": [
          14.130869721941398,
          19.13578981670916,
          24.622517114844044,
          33.33333333333333,
          49.999999999999986
         ],
         "yaxis": "y"
        },
        {
         "hovertemplate": "TickerSymbol=EBTC<br>variable=%{x}<br>value=%{y}<extra></extra>",
         "legendgroup": "EBTC",
         "line": {
          "color": "#B6E880",
          "dash": "solid"
         },
         "mode": "lines",
         "name": "EBTC",
         "orientation": "v",
         "showlegend": true,
         "type": "scatter",
         "x": [
          "DGR10-yr",
          "DGR5-yr",
          "DGR3-yr",
          "DGR1-yr",
          "MR%Inc."
         ],
         "xaxis": "x",
         "y": [
          5.755705033825231,
          6.9610375725068785,
          9.035543672952983,
          9.375,
          9.374999999999991
         ],
         "yaxis": "y"
        },
        {
         "hovertemplate": "TickerSymbol=GS<br>variable=%{x}<br>value=%{y}<extra></extra>",
         "legendgroup": "GS",
         "line": {
          "color": "#FF97FF",
          "dash": "solid"
         },
         "mode": "lines",
         "name": "GS",
         "orientation": "v",
         "showlegend": true,
         "type": "scatter",
         "x": [
          "DGR10-yr",
          "DGR5-yr",
          "DGR3-yr",
          "DGR1-yr",
          "MR%Inc."
         ],
         "xaxis": "x",
         "y": [
          13.575379559642652,
          14.415790313971112,
          19.910533569987,
          20.48192771084336,
          47.05882352941177
         ],
         "yaxis": "y"
        },
        {
         "hovertemplate": "TickerSymbol=HIFS<br>variable=%{x}<br>value=%{y}<extra></extra>",
         "legendgroup": "HIFS",
         "line": {
          "color": "#FECB52",
          "dash": "solid"
         },
         "mode": "lines",
         "name": "HIFS",
         "orientation": "v",
         "showlegend": true,
         "type": "scatter",
         "x": [
          "DGR10-yr",
          "DGR5-yr",
          "DGR3-yr",
          "DGR1-yr",
          "MR%Inc."
         ],
         "xaxis": "x",
         "y": [
          6.394904309581606,
          8.447177119769854,
          9.568130779481754,
          11.038961038961027,
          4.444444444444437
         ],
         "yaxis": "y"
        },
        {
         "hovertemplate": "TickerSymbol=MGEE<br>variable=%{x}<br>value=%{y}<extra></extra>",
         "legendgroup": "MGEE",
         "line": {
          "color": "#636efa",
          "dash": "solid"
         },
         "mode": "lines",
         "name": "MGEE",
         "orientation": "v",
         "showlegend": true,
         "type": "scatter",
         "x": [
          "DGR10-yr",
          "DGR5-yr",
          "DGR3-yr",
          "DGR1-yr",
          "MR%Inc."
         ],
         "xaxis": "x",
         "y": [
          3.854008833568656,
          4.582055304397326,
          4.672460714729909,
          4.710144927536253,
          4.964539007092203
         ],
         "yaxis": "y"
        },
        {
         "hovertemplate": "TickerSymbol=MRK<br>variable=%{x}<br>value=%{y}<extra></extra>",
         "legendgroup": "MRK",
         "line": {
          "color": "#EF553B",
          "dash": "solid"
         },
         "mode": "lines",
         "name": "MRK",
         "orientation": "v",
         "showlegend": true,
         "type": "scatter",
         "x": [
          "DGR10-yr",
          "DGR5-yr",
          "DGR3-yr",
          "DGR1-yr",
          "MR%Inc."
         ],
         "xaxis": "x",
         "y": [
          4.846665727063781,
          6.27312815493295,
          9.079714446945175,
          10.90909090909089,
          6.557377049180333
         ],
         "yaxis": "y"
        },
        {
         "hovertemplate": "TickerSymbol=NIDB<br>variable=%{x}<br>value=%{y}<extra></extra>",
         "legendgroup": "NIDB",
         "line": {
          "color": "#00cc96",
          "dash": "solid"
         },
         "mode": "lines",
         "name": "NIDB",
         "orientation": "v",
         "showlegend": true,
         "type": "scatter",
         "x": [
          "DGR10-yr",
          "DGR5-yr",
          "DGR3-yr",
          "DGR1-yr",
          "MR%Inc."
         ],
         "xaxis": "x",
         "y": [
          4.75471813863706,
          6.117814187147808,
          6.592830846283926,
          6.8627450980392135,
          3.703703703703707
         ],
         "yaxis": "y"
        },
        {
         "hovertemplate": "TickerSymbol=ORI<br>variable=%{x}<br>value=%{y}<extra></extra>",
         "legendgroup": "ORI",
         "line": {
          "color": "#ab63fa",
          "dash": "solid"
         },
         "mode": "lines",
         "name": "ORI",
         "orientation": "v",
         "showlegend": true,
         "type": "scatter",
         "x": [
          "DGR10-yr",
          "DGR5-yr",
          "DGR3-yr",
          "DGR1-yr",
          "MR%Inc."
         ],
         "xaxis": "x",
         "y": [
          1.9865779002786743,
          2.567439351051015,
          3.3923876378405105,
          4.999999999999982,
          4.99999999999999
         ],
         "yaxis": "y"
        },
        {
         "hovertemplate": "TickerSymbol=SHW<br>variable=%{x}<br>value=%{y}<extra></extra>",
         "legendgroup": "SHW",
         "line": {
          "color": "#FFA15A",
          "dash": "solid"
         },
         "mode": "lines",
         "name": "SHW",
         "orientation": "v",
         "showlegend": true,
         "type": "scatter",
         "x": [
          "DGR10-yr",
          "DGR5-yr",
          "DGR3-yr",
          "DGR1-yr",
          "MR%Inc."
         ],
         "xaxis": "x",
         "y": [
          14.046045203158087,
          14.869835499703509,
          16.384539053573622,
          18.584070796460207,
          18.584070796460196
         ],
         "yaxis": "y"
        },
        {
         "hovertemplate": "TickerSymbol=SYY<br>variable=%{x}<br>value=%{y}<extra></extra>",
         "legendgroup": "SYY",
         "line": {
          "color": "#19d3f3",
          "dash": "solid"
         },
         "mode": "lines",
         "name": "SYY",
         "orientation": "v",
         "showlegend": true,
         "type": "scatter",
         "x": [
          "DGR10-yr",
          "DGR5-yr",
          "DGR3-yr",
          "DGR1-yr",
          "MR%Inc."
         ],
         "xaxis": "x",
         "y": [
          6.05404816140187,
          8.447177119769854,
          10.891823393038823,
          15.384615384615374,
          15.384615384615383
         ],
         "yaxis": "y"
        },
        {
         "hovertemplate": "TickerSymbol=TPL<br>variable=%{x}<br>value=%{y}<extra></extra>",
         "legendgroup": "TPL",
         "line": {
          "color": "#FF6692",
          "dash": "solid"
         },
         "mode": "lines",
         "name": "TPL",
         "orientation": "v",
         "showlegend": true,
         "type": "scatter",
         "x": [
          "DGR10-yr",
          "DGR5-yr",
          "DGR3-yr",
          "DGR1-yr",
          "MR%Inc."
         ],
         "xaxis": "x",
         "y": [
          47.875763662831375,
          103.01138795873435,
          205.71070873287988,
          471.42857142857144,
          471.42857142857144
         ],
         "yaxis": "y"
        },
        {
         "hovertemplate": "TickerSymbol=TYCB<br>variable=%{x}<br>value=%{y}<extra></extra>",
         "legendgroup": "TYCB",
         "line": {
          "color": "#B6E880",
          "dash": "solid"
         },
         "mode": "lines",
         "name": "TYCB",
         "orientation": "v",
         "showlegend": true,
         "type": "scatter",
         "x": [
          "DGR10-yr",
          "DGR5-yr",
          "DGR3-yr",
          "DGR1-yr",
          "MR%Inc."
         ],
         "xaxis": "x",
         "y": [
          2.098100681516013,
          3.131030647754507,
          4.551591714942038,
          12.00000000000001,
          11.538461538461526
         ],
         "yaxis": "y"
        },
        {
         "hovertemplate": "TickerSymbol=UBSI<br>variable=%{x}<br>value=%{y}<extra></extra>",
         "legendgroup": "UBSI",
         "line": {
          "color": "#FF97FF",
          "dash": "solid"
         },
         "mode": "lines",
         "name": "UBSI",
         "orientation": "v",
         "showlegend": true,
         "type": "scatter",
         "x": [
          "DGR10-yr",
          "DGR5-yr",
          "DGR3-yr",
          "DGR1-yr",
          "MR%Inc."
         ],
         "xaxis": "x",
         "y": [
          1.5534493002352434,
          1.808400232019891,
          1.9807108406801,
          2.941176470588225,
          2.9411764705882213
         ],
         "yaxis": "y"
        }
       ],
       "layout": {
        "legend": {
         "title": {
          "text": "TickerSymbol"
         },
         "tracegroupgap": 0
        },
        "margin": {
         "t": 60
        },
        "template": {
         "data": {
          "bar": [
           {
            "error_x": {
             "color": "#2a3f5f"
            },
            "error_y": {
             "color": "#2a3f5f"
            },
            "marker": {
             "line": {
              "color": "#E5ECF6",
              "width": 0.5
             }
            },
            "type": "bar"
           }
          ],
          "barpolar": [
           {
            "marker": {
             "line": {
              "color": "#E5ECF6",
              "width": 0.5
             }
            },
            "type": "barpolar"
           }
          ],
          "carpet": [
           {
            "aaxis": {
             "endlinecolor": "#2a3f5f",
             "gridcolor": "white",
             "linecolor": "white",
             "minorgridcolor": "white",
             "startlinecolor": "#2a3f5f"
            },
            "baxis": {
             "endlinecolor": "#2a3f5f",
             "gridcolor": "white",
             "linecolor": "white",
             "minorgridcolor": "white",
             "startlinecolor": "#2a3f5f"
            },
            "type": "carpet"
           }
          ],
          "choropleth": [
           {
            "colorbar": {
             "outlinewidth": 0,
             "ticks": ""
            },
            "type": "choropleth"
           }
          ],
          "contour": [
           {
            "colorbar": {
             "outlinewidth": 0,
             "ticks": ""
            },
            "colorscale": [
             [
              0,
              "#0d0887"
             ],
             [
              0.1111111111111111,
              "#46039f"
             ],
             [
              0.2222222222222222,
              "#7201a8"
             ],
             [
              0.3333333333333333,
              "#9c179e"
             ],
             [
              0.4444444444444444,
              "#bd3786"
             ],
             [
              0.5555555555555556,
              "#d8576b"
             ],
             [
              0.6666666666666666,
              "#ed7953"
             ],
             [
              0.7777777777777778,
              "#fb9f3a"
             ],
             [
              0.8888888888888888,
              "#fdca26"
             ],
             [
              1,
              "#f0f921"
             ]
            ],
            "type": "contour"
           }
          ],
          "contourcarpet": [
           {
            "colorbar": {
             "outlinewidth": 0,
             "ticks": ""
            },
            "type": "contourcarpet"
           }
          ],
          "heatmap": [
           {
            "colorbar": {
             "outlinewidth": 0,
             "ticks": ""
            },
            "colorscale": [
             [
              0,
              "#0d0887"
             ],
             [
              0.1111111111111111,
              "#46039f"
             ],
             [
              0.2222222222222222,
              "#7201a8"
             ],
             [
              0.3333333333333333,
              "#9c179e"
             ],
             [
              0.4444444444444444,
              "#bd3786"
             ],
             [
              0.5555555555555556,
              "#d8576b"
             ],
             [
              0.6666666666666666,
              "#ed7953"
             ],
             [
              0.7777777777777778,
              "#fb9f3a"
             ],
             [
              0.8888888888888888,
              "#fdca26"
             ],
             [
              1,
              "#f0f921"
             ]
            ],
            "type": "heatmap"
           }
          ],
          "heatmapgl": [
           {
            "colorbar": {
             "outlinewidth": 0,
             "ticks": ""
            },
            "colorscale": [
             [
              0,
              "#0d0887"
             ],
             [
              0.1111111111111111,
              "#46039f"
             ],
             [
              0.2222222222222222,
              "#7201a8"
             ],
             [
              0.3333333333333333,
              "#9c179e"
             ],
             [
              0.4444444444444444,
              "#bd3786"
             ],
             [
              0.5555555555555556,
              "#d8576b"
             ],
             [
              0.6666666666666666,
              "#ed7953"
             ],
             [
              0.7777777777777778,
              "#fb9f3a"
             ],
             [
              0.8888888888888888,
              "#fdca26"
             ],
             [
              1,
              "#f0f921"
             ]
            ],
            "type": "heatmapgl"
           }
          ],
          "histogram": [
           {
            "marker": {
             "colorbar": {
              "outlinewidth": 0,
              "ticks": ""
             }
            },
            "type": "histogram"
           }
          ],
          "histogram2d": [
           {
            "colorbar": {
             "outlinewidth": 0,
             "ticks": ""
            },
            "colorscale": [
             [
              0,
              "#0d0887"
             ],
             [
              0.1111111111111111,
              "#46039f"
             ],
             [
              0.2222222222222222,
              "#7201a8"
             ],
             [
              0.3333333333333333,
              "#9c179e"
             ],
             [
              0.4444444444444444,
              "#bd3786"
             ],
             [
              0.5555555555555556,
              "#d8576b"
             ],
             [
              0.6666666666666666,
              "#ed7953"
             ],
             [
              0.7777777777777778,
              "#fb9f3a"
             ],
             [
              0.8888888888888888,
              "#fdca26"
             ],
             [
              1,
              "#f0f921"
             ]
            ],
            "type": "histogram2d"
           }
          ],
          "histogram2dcontour": [
           {
            "colorbar": {
             "outlinewidth": 0,
             "ticks": ""
            },
            "colorscale": [
             [
              0,
              "#0d0887"
             ],
             [
              0.1111111111111111,
              "#46039f"
             ],
             [
              0.2222222222222222,
              "#7201a8"
             ],
             [
              0.3333333333333333,
              "#9c179e"
             ],
             [
              0.4444444444444444,
              "#bd3786"
             ],
             [
              0.5555555555555556,
              "#d8576b"
             ],
             [
              0.6666666666666666,
              "#ed7953"
             ],
             [
              0.7777777777777778,
              "#fb9f3a"
             ],
             [
              0.8888888888888888,
              "#fdca26"
             ],
             [
              1,
              "#f0f921"
             ]
            ],
            "type": "histogram2dcontour"
           }
          ],
          "mesh3d": [
           {
            "colorbar": {
             "outlinewidth": 0,
             "ticks": ""
            },
            "type": "mesh3d"
           }
          ],
          "parcoords": [
           {
            "line": {
             "colorbar": {
              "outlinewidth": 0,
              "ticks": ""
             }
            },
            "type": "parcoords"
           }
          ],
          "pie": [
           {
            "automargin": true,
            "type": "pie"
           }
          ],
          "scatter": [
           {
            "marker": {
             "colorbar": {
              "outlinewidth": 0,
              "ticks": ""
             }
            },
            "type": "scatter"
           }
          ],
          "scatter3d": [
           {
            "line": {
             "colorbar": {
              "outlinewidth": 0,
              "ticks": ""
             }
            },
            "marker": {
             "colorbar": {
              "outlinewidth": 0,
              "ticks": ""
             }
            },
            "type": "scatter3d"
           }
          ],
          "scattercarpet": [
           {
            "marker": {
             "colorbar": {
              "outlinewidth": 0,
              "ticks": ""
             }
            },
            "type": "scattercarpet"
           }
          ],
          "scattergeo": [
           {
            "marker": {
             "colorbar": {
              "outlinewidth": 0,
              "ticks": ""
             }
            },
            "type": "scattergeo"
           }
          ],
          "scattergl": [
           {
            "marker": {
             "colorbar": {
              "outlinewidth": 0,
              "ticks": ""
             }
            },
            "type": "scattergl"
           }
          ],
          "scattermapbox": [
           {
            "marker": {
             "colorbar": {
              "outlinewidth": 0,
              "ticks": ""
             }
            },
            "type": "scattermapbox"
           }
          ],
          "scatterpolar": [
           {
            "marker": {
             "colorbar": {
              "outlinewidth": 0,
              "ticks": ""
             }
            },
            "type": "scatterpolar"
           }
          ],
          "scatterpolargl": [
           {
            "marker": {
             "colorbar": {
              "outlinewidth": 0,
              "ticks": ""
             }
            },
            "type": "scatterpolargl"
           }
          ],
          "scatterternary": [
           {
            "marker": {
             "colorbar": {
              "outlinewidth": 0,
              "ticks": ""
             }
            },
            "type": "scatterternary"
           }
          ],
          "surface": [
           {
            "colorbar": {
             "outlinewidth": 0,
             "ticks": ""
            },
            "colorscale": [
             [
              0,
              "#0d0887"
             ],
             [
              0.1111111111111111,
              "#46039f"
             ],
             [
              0.2222222222222222,
              "#7201a8"
             ],
             [
              0.3333333333333333,
              "#9c179e"
             ],
             [
              0.4444444444444444,
              "#bd3786"
             ],
             [
              0.5555555555555556,
              "#d8576b"
             ],
             [
              0.6666666666666666,
              "#ed7953"
             ],
             [
              0.7777777777777778,
              "#fb9f3a"
             ],
             [
              0.8888888888888888,
              "#fdca26"
             ],
             [
              1,
              "#f0f921"
             ]
            ],
            "type": "surface"
           }
          ],
          "table": [
           {
            "cells": {
             "fill": {
              "color": "#EBF0F8"
             },
             "line": {
              "color": "white"
             }
            },
            "header": {
             "fill": {
              "color": "#C8D4E3"
             },
             "line": {
              "color": "white"
             }
            },
            "type": "table"
           }
          ]
         },
         "layout": {
          "annotationdefaults": {
           "arrowcolor": "#2a3f5f",
           "arrowhead": 0,
           "arrowwidth": 1
          },
          "autotypenumbers": "strict",
          "coloraxis": {
           "colorbar": {
            "outlinewidth": 0,
            "ticks": ""
           }
          },
          "colorscale": {
           "diverging": [
            [
             0,
             "#8e0152"
            ],
            [
             0.1,
             "#c51b7d"
            ],
            [
             0.2,
             "#de77ae"
            ],
            [
             0.3,
             "#f1b6da"
            ],
            [
             0.4,
             "#fde0ef"
            ],
            [
             0.5,
             "#f7f7f7"
            ],
            [
             0.6,
             "#e6f5d0"
            ],
            [
             0.7,
             "#b8e186"
            ],
            [
             0.8,
             "#7fbc41"
            ],
            [
             0.9,
             "#4d9221"
            ],
            [
             1,
             "#276419"
            ]
           ],
           "sequential": [
            [
             0,
             "#0d0887"
            ],
            [
             0.1111111111111111,
             "#46039f"
            ],
            [
             0.2222222222222222,
             "#7201a8"
            ],
            [
             0.3333333333333333,
             "#9c179e"
            ],
            [
             0.4444444444444444,
             "#bd3786"
            ],
            [
             0.5555555555555556,
             "#d8576b"
            ],
            [
             0.6666666666666666,
             "#ed7953"
            ],
            [
             0.7777777777777778,
             "#fb9f3a"
            ],
            [
             0.8888888888888888,
             "#fdca26"
            ],
            [
             1,
             "#f0f921"
            ]
           ],
           "sequentialminus": [
            [
             0,
             "#0d0887"
            ],
            [
             0.1111111111111111,
             "#46039f"
            ],
            [
             0.2222222222222222,
             "#7201a8"
            ],
            [
             0.3333333333333333,
             "#9c179e"
            ],
            [
             0.4444444444444444,
             "#bd3786"
            ],
            [
             0.5555555555555556,
             "#d8576b"
            ],
            [
             0.6666666666666666,
             "#ed7953"
            ],
            [
             0.7777777777777778,
             "#fb9f3a"
            ],
            [
             0.8888888888888888,
             "#fdca26"
            ],
            [
             1,
             "#f0f921"
            ]
           ]
          },
          "colorway": [
           "#636efa",
           "#EF553B",
           "#00cc96",
           "#ab63fa",
           "#FFA15A",
           "#19d3f3",
           "#FF6692",
           "#B6E880",
           "#FF97FF",
           "#FECB52"
          ],
          "font": {
           "color": "#2a3f5f"
          },
          "geo": {
           "bgcolor": "white",
           "lakecolor": "white",
           "landcolor": "#E5ECF6",
           "showlakes": true,
           "showland": true,
           "subunitcolor": "white"
          },
          "hoverlabel": {
           "align": "left"
          },
          "hovermode": "closest",
          "mapbox": {
           "style": "light"
          },
          "paper_bgcolor": "white",
          "plot_bgcolor": "#E5ECF6",
          "polar": {
           "angularaxis": {
            "gridcolor": "white",
            "linecolor": "white",
            "ticks": ""
           },
           "bgcolor": "#E5ECF6",
           "radialaxis": {
            "gridcolor": "white",
            "linecolor": "white",
            "ticks": ""
           }
          },
          "scene": {
           "xaxis": {
            "backgroundcolor": "#E5ECF6",
            "gridcolor": "white",
            "gridwidth": 2,
            "linecolor": "white",
            "showbackground": true,
            "ticks": "",
            "zerolinecolor": "white"
           },
           "yaxis": {
            "backgroundcolor": "#E5ECF6",
            "gridcolor": "white",
            "gridwidth": 2,
            "linecolor": "white",
            "showbackground": true,
            "ticks": "",
            "zerolinecolor": "white"
           },
           "zaxis": {
            "backgroundcolor": "#E5ECF6",
            "gridcolor": "white",
            "gridwidth": 2,
            "linecolor": "white",
            "showbackground": true,
            "ticks": "",
            "zerolinecolor": "white"
           }
          },
          "shapedefaults": {
           "line": {
            "color": "#2a3f5f"
           }
          },
          "ternary": {
           "aaxis": {
            "gridcolor": "white",
            "linecolor": "white",
            "ticks": ""
           },
           "baxis": {
            "gridcolor": "white",
            "linecolor": "white",
            "ticks": ""
           },
           "bgcolor": "#E5ECF6",
           "caxis": {
            "gridcolor": "white",
            "linecolor": "white",
            "ticks": ""
           }
          },
          "title": {
           "x": 0.05
          },
          "xaxis": {
           "automargin": true,
           "gridcolor": "white",
           "linecolor": "white",
           "ticks": "",
           "title": {
            "standoff": 15
           },
           "zerolinecolor": "white",
           "zerolinewidth": 2
          },
          "yaxis": {
           "automargin": true,
           "gridcolor": "white",
           "linecolor": "white",
           "ticks": "",
           "title": {
            "standoff": 15
           },
           "zerolinecolor": "white",
           "zerolinewidth": 2
          }
         }
        },
        "xaxis": {
         "anchor": "y",
         "domain": [
          0,
          1
         ],
         "title": {
          "text": "variable"
         }
        },
        "yaxis": {
         "anchor": "x",
         "domain": [
          0,
          1
         ],
         "title": {
          "text": "value"
         }
        }
       }
      }
     },
     "metadata": {}
    }
   ],
   "source": [
    "# slice df to Ticker, MR%, DGR-3, DGR-5, DGR-10\n",
    "dgrs = df[['TickerSymbol', 'DGR10-yr', 'DGR5-yr', 'DGR3-yr', 'DGR1-yr', 'MR%Inc.']]\n",
    "# dgrs = dgrs.iloc[0]\n",
    "\n",
    "# the dripinvesting df format is wide - the variables are in columns instead of rows. We need to \"melt\" it in order to graph is properly.\n",
    "dgrs = pd.melt(dgrs, id_vars='TickerSymbol')\n",
    "\n",
    "fig = px.line(dgrs, x='variable', y='value', color='TickerSymbol')\n",
    "fig.show()\n",
    "\n"
   ]
  },
  {
   "cell_type": "code",
   "execution_count": null,
   "metadata": {},
   "outputs": [],
   "source": []
  }
 ]
}