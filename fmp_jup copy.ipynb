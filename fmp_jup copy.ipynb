{
 "metadata": {
  "language_info": {
   "codemirror_mode": {
    "name": "ipython",
    "version": 3
   },
   "file_extension": ".py",
   "mimetype": "text/x-python",
   "name": "python",
   "nbconvert_exporter": "python",
   "pygments_lexer": "ipython3",
   "version": "3.9.0-final"
  },
  "orig_nbformat": 2,
  "kernelspec": {
   "name": "python3",
   "display_name": "Python 3.9.0 64-bit ('env')",
   "metadata": {
    "interpreter": {
     "hash": "fb83064361a861f30404a56c736035f5f4bd6d546f50dcea4699849bf1fd6680"
    }
   }
  }
 },
 "nbformat": 4,
 "nbformat_minor": 2,
 "cells": [
  {
   "cell_type": "code",
   "execution_count": 4,
   "metadata": {},
   "outputs": [],
   "source": [
    "from fmp_python.fmp import FMP\n",
    "import os\n",
    "import pandas as pd\n",
    "from SP500_div_yield_crawler import SP500\n",
    "from datetime import datetime\n",
    "\n",
    "os.environ[\"FMP_API_KEY\"] = \"606d643d87241cde956b5cd85a3c56d1\"\n",
    "fmp = FMP()\n",
    "\n",
    "# dividend, date  - historical dividend values and dates\n",
    "dividends = fmp.get_dividends('O', 'historical-price-full/stock_dividend')\n",
    "\n",
    "# set proper DateTime object as the index of the dataframe\n",
    "dividends['Datetime'] = pd.to_datetime(dividends['date'])\n",
    "dividends = dividends.set_index('Datetime')"
   ]
  },
  {
   "cell_type": "code",
   "execution_count": 5,
   "metadata": {},
   "outputs": [],
   "source": [
    "\n",
    "\n",
    "# resample annually and sum dividend values. Note that year end (Dec 31) will be shown for all groups\n",
    "# dividends = dividends.resample(\"A\")[\"adjDividend\"].sum()\n",
    "# dividends.dtypes\n",
    "\n",
    "dividends_processed = dividends.resample(\"A\")[\"date\"].count()\n",
    "today = datetime.today()\n",
    "this_year = today.year\n",
    "mask = (dividends_processed.index > (str(this_year-1)+'-01-01')) & (dividends_processed.index <= (str(this_year-1)+'-12-31'))\n",
    "filtered_dividends=dividends_processed.loc[mask]\n",
    "# print(filtered_df)\n",
    "# include = dividends[dividends['Date'].datetime.year == this_year]"
   ]
  },
  {
   "cell_type": "code",
   "execution_count": 6,
   "metadata": {},
   "outputs": [
    {
     "output_type": "stream",
     "name": "stdout",
     "text": [
      "['01']\n"
     ]
    }
   ],
   "source": [
    "\n",
    "year = 2021\n",
    "mask = (dividends.index > (str(year)+'-01-01')) & (dividends.index <= (str(year)+'-12-31'))\n",
    "dividends_filtered_of_year=dividends.loc[mask]\n",
    "\n",
    "list_of_div_months = dividends_filtered_of_year.index.tolist()\n",
    "list_of_div_months = [date.strftime(\"%m\") for date in list_of_div_months]\n",
    "print (list_of_div_months)\n"
   ]
  },
  {
   "cell_type": "code",
   "execution_count": null,
   "metadata": {},
   "outputs": [],
   "source": [
    "short = fmp.get_quote_short('KO')\n"
   ]
  }
 ]
}