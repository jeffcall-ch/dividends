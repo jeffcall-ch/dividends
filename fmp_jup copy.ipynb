{
 "metadata": {
  "language_info": {
   "codemirror_mode": {
    "name": "ipython",
    "version": 3
   },
   "file_extension": ".py",
   "mimetype": "text/x-python",
   "name": "python",
   "nbconvert_exporter": "python",
   "pygments_lexer": "ipython3",
   "version": "3.9.0-final"
  },
  "orig_nbformat": 2,
  "kernelspec": {
   "name": "python3",
   "display_name": "Python 3.9.0 64-bit ('env')",
   "metadata": {
    "interpreter": {
     "hash": "fb83064361a861f30404a56c736035f5f4bd6d546f50dcea4699849bf1fd6680"
    }
   }
  }
 },
 "nbformat": 4,
 "nbformat_minor": 2,
 "cells": [
  {
   "cell_type": "code",
   "execution_count": 68,
   "metadata": {},
   "outputs": [],
   "source": [
    "from fmp_python.fmp import FMP\n",
    "import os\n",
    "import pandas as pd\n",
    "from SP500_div_yield_crawler import SP500\n",
    "from datetime import datetime\n",
    "\n",
    "os.environ[\"FMP_API_KEY\"] = \"606d643d87241cde956b5cd85a3c56d1\"\n",
    "fmp = FMP()\n",
    "\n",
    "# dividend, date  - historical dividend values and dates\n",
    "dividends = fmp.get_dividends('O', 'historical-price-full/stock_dividend')\n",
    "\n",
    "# set proper DateTime object as the index of the dataframe\n",
    "dividends['Datetime'] = pd.to_datetime(dividends['date'])\n",
    "dividends = dividends.set_index('Datetime')"
   ]
  },
  {
   "cell_type": "code",
   "execution_count": 69,
   "metadata": {},
   "outputs": [],
   "source": [
    "\n",
    "\n",
    "# resample annually and sum dividend values. Note that year end (Dec 31) will be shown for all groups\n",
    "# dividends = dividends.resample(\"A\")[\"adjDividend\"].sum()\n",
    "# dividends.dtypes\n",
    "\n",
    "dividends_processed = dividends.resample(\"A\")[\"date\"].count()\n",
    "today = datetime.today()\n",
    "this_year = today.year\n",
    "mask = (dividends_processed.index > (str(this_year-1)+'-01-01')) & (dividends_processed.index <= (str(this_year-1)+'-12-31'))\n",
    "filtered_dividends=dividends_processed.loc[mask]\n",
    "# print(filtered_df)\n",
    "# include = dividends[dividends['Date'].datetime.year == this_year]"
   ]
  },
  {
   "cell_type": "code",
   "execution_count": 70,
   "metadata": {},
   "outputs": [
    {
     "output_type": "stream",
     "name": "stdout",
     "text": [
      "['01']\n"
     ]
    }
   ],
   "source": [
    "\n",
    "year = 2021\n",
    "mask = (dividends.index > (str(year)+'-01-01')) & (dividends.index <= (str(year)+'-12-31'))\n",
    "dividends_filtered_of_year=dividends.loc[mask]\n",
    "\n",
    "list_of_div_months = dividends_filtered_of_year.index.tolist()\n",
    "list_of_div_months = [date.strftime(\"%m\") for date in list_of_div_months]\n",
    "print (list_of_div_months)\n"
   ]
  },
  {
   "cell_type": "code",
   "execution_count": 71,
   "metadata": {},
   "outputs": [],
   "source": [
    "short = fmp.get_quote_short('O')\n"
   ]
  },
  {
   "cell_type": "code",
   "execution_count": 72,
   "metadata": {},
   "outputs": [
    {
     "output_type": "stream",
     "name": "stdout",
     "text": [
      "            yearlyDividendValue  dividendGrowth\nDatetime                                       \n2020-12-31             2.804000        0.031261\n2019-12-31             2.719000        0.029924\n2018-12-31             2.640000        0.040394\n2017-12-31             2.537500        0.055532\n2016-12-31             2.404000        0.054386\n2015-12-31             2.280000        0.039840\n2014-12-31             2.192646       -0.071020\n2013-12-31             2.360272        0.327487\n2012-12-31             1.778000        0.022611\n2011-12-31             1.738686        0.008922\n2010-12-31             1.723310        0.008705\n2009-12-31             1.708438        0.024935\n2008-12-31             1.666875        0.061112\n2007-12-31             1.570875        0.084858\n2006-12-31             1.448000        0.071085\n2005-12-31             1.351900       -0.437505\n2004-12-31             2.403400        0.219195\n2003-12-31             1.971300        0.078274\n2002-12-31             1.828200       -0.152630\n2001-12-31             2.157500        0.126808\n2000-12-31             1.914700        0.096684\n1999-12-31             1.745900       -0.114431\n1998-12-31             1.971500        0.557513\n1997-12-31             1.265800       -0.141598\n1996-12-31             1.474600       -0.121739\n1995-12-31             1.679000        3.477333\n1994-12-31             0.375000             NaN\n"
     ]
    }
   ],
   "source": [
    "# get dividend growth per year\n",
    "dividends_new = pd.DataFrame()\n",
    "# remove current year line as it cannot be complete and we are interested in historical data\n",
    "\n",
    "dividends_new['yearlyDividendValue'] = dividends.resample(\"A\")[\"adjDividend\"].sum()\n",
    "dividends_new['dividendGrowth'] = dividends_new.pct_change()\n",
    "dividends_new = dividends_new.sort_index(ascending=False)\n",
    "\n",
    "# mask out row of current year\n",
    "mask = (dividends_new.index <= (str(this_year-1)+'-12-31'))\n",
    "dividends_new_filtered=dividends_new.loc[mask]\n",
    "\n",
    "print (dividends_new_filtered)"
   ]
  },
  {
   "cell_type": "code",
   "execution_count": null,
   "metadata": {},
   "outputs": [],
   "source": []
  }
 ]
}