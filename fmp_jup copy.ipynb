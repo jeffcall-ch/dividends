{
 "metadata": {
  "language_info": {
   "codemirror_mode": {
    "name": "ipython",
    "version": 3
   },
   "file_extension": ".py",
   "mimetype": "text/x-python",
   "name": "python",
   "nbconvert_exporter": "python",
   "pygments_lexer": "ipython3",
   "version": "3.9.0-final"
  },
  "orig_nbformat": 2,
  "kernelspec": {
   "name": "python3",
   "display_name": "Python 3.9.0 64-bit ('env')",
   "metadata": {
    "interpreter": {
     "hash": "fb83064361a861f30404a56c736035f5f4bd6d546f50dcea4699849bf1fd6680"
    }
   }
  }
 },
 "nbformat": 4,
 "nbformat_minor": 2,
 "cells": [
  {
   "cell_type": "code",
   "execution_count": 11,
   "metadata": {},
   "outputs": [],
   "source": [
    "from fmp_python.fmp import FMP\n",
    "import os\n",
    "import pandas as pd\n",
    "from SP500_div_yield_crawler import SP500\n",
    "from datetime import datetime\n",
    "import numpy as np\n",
    "\n",
    "os.environ[\"FMP_API_KEY\"] = \"606d643d87241cde956b5cd85a3c56d1\"\n",
    "fmp = FMP()\n",
    "\n",
    "# dividend, date  - historical dividend values and dates\n",
    "dividends = fmp.get_dividends('AAPL', 'historical-price-full/stock_dividend')\n",
    "\n",
    "# set proper DateTime object as the index of the dataframe\n",
    "dividends['Datetime'] = pd.to_datetime(dividends['date'])\n",
    "dividends = dividends.set_index('Datetime')\n"
   ]
  },
  {
   "cell_type": "code",
   "execution_count": 12,
   "metadata": {},
   "outputs": [],
   "source": [
    "\n",
    "\n",
    "# resample annually and sum dividend values. Note that year end (Dec 31) will be shown for all groups\n",
    "# dividends = dividends.resample(\"A\")[\"adjDividend\"].sum()\n",
    "# dividends.dtypes\n",
    "\n",
    "dividends_processed = dividends.resample(\"A\")[\"date\"].count()\n",
    "today = datetime.today()\n",
    "this_year = today.year\n",
    "mask = (dividends_processed.index > (str(this_year-1)+'-01-01')) & (dividends_processed.index <= (str(this_year-1)+'-12-31'))\n",
    "filtered_dividends=dividends_processed.loc[mask]\n",
    "# print(filtered_df)\n",
    "# include = dividends[dividends['Date'].datetime.year == this_year]"
   ]
  },
  {
   "cell_type": "code",
   "execution_count": 13,
   "metadata": {},
   "outputs": [
    {
     "output_type": "stream",
     "name": "stdout",
     "text": [
      "[]\n"
     ]
    }
   ],
   "source": [
    "\n",
    "year = 2021\n",
    "mask = (dividends.index > (str(year)+'-01-01')) & (dividends.index <= (str(year)+'-12-31'))\n",
    "dividends_filtered_of_year=dividends.loc[mask]\n",
    "\n",
    "list_of_div_months = dividends_filtered_of_year.index.tolist()\n",
    "list_of_div_months = [date.strftime(\"%m\") for date in list_of_div_months]\n",
    "print (list_of_div_months)\n"
   ]
  },
  {
   "cell_type": "code",
   "execution_count": 14,
   "metadata": {},
   "outputs": [],
   "source": [
    "short = fmp.get_quote_short('O')\n"
   ]
  },
  {
   "cell_type": "code",
   "execution_count": 20,
   "metadata": {},
   "outputs": [
    {
     "output_type": "error",
     "ename": "NameError",
     "evalue": "name 'np' is not defined",
     "traceback": [
      "\u001b[1;31m---------------------------------------------------------------------------\u001b[0m",
      "\u001b[1;31mNameError\u001b[0m                                 Traceback (most recent call last)",
      "\u001b[1;32m<ipython-input-20-52896951e707>\u001b[0m in \u001b[0;36m<module>\u001b[1;34m\u001b[0m\n\u001b[0;32m     12\u001b[0m \u001b[1;33m\u001b[0m\u001b[0m\n\u001b[0;32m     13\u001b[0m \u001b[1;31m# find first missing dividend value (for AAPL a lot of years are missing) and cut all below\u001b[0m\u001b[1;33m\u001b[0m\u001b[1;33m\u001b[0m\u001b[1;33m\u001b[0m\u001b[0m\n\u001b[1;32m---> 14\u001b[1;33m \u001b[0mdividends_new_filtered\u001b[0m\u001b[1;33m[\u001b[0m\u001b[1;34m'yearlyDividendValue'\u001b[0m\u001b[1;33m]\u001b[0m \u001b[1;33m=\u001b[0m \u001b[0mdividends_new_filtered\u001b[0m\u001b[1;33m[\u001b[0m\u001b[1;34m'yearlyDividendValue'\u001b[0m\u001b[1;33m]\u001b[0m\u001b[1;33m.\u001b[0m\u001b[0mreplace\u001b[0m\u001b[1;33m(\u001b[0m\u001b[1;33m{\u001b[0m\u001b[1;34m'0'\u001b[0m\u001b[1;33m:\u001b[0m\u001b[0mnp\u001b[0m\u001b[1;33m.\u001b[0m\u001b[0mnan\u001b[0m\u001b[1;33m,\u001b[0m \u001b[1;36m0\u001b[0m\u001b[1;33m:\u001b[0m\u001b[0mnp\u001b[0m\u001b[1;33m.\u001b[0m\u001b[0mnan\u001b[0m\u001b[1;33m}\u001b[0m\u001b[1;33m)\u001b[0m\u001b[1;33m\u001b[0m\u001b[1;33m\u001b[0m\u001b[0m\n\u001b[0m\u001b[0;32m     15\u001b[0m \u001b[0mdividends_new_cut\u001b[0m \u001b[1;33m=\u001b[0m \u001b[0mdividends_new_filtered\u001b[0m\u001b[1;33m[\u001b[0m\u001b[1;33m:\u001b[0m\u001b[0mdividends_new_filtered\u001b[0m\u001b[1;33m[\u001b[0m\u001b[1;34m'yearlyDividendValue'\u001b[0m\u001b[1;33m]\u001b[0m\u001b[1;33m.\u001b[0m\u001b[0misnull\u001b[0m\u001b[1;33m(\u001b[0m\u001b[1;33m)\u001b[0m\u001b[1;33m.\u001b[0m\u001b[0margmax\u001b[0m\u001b[1;33m(\u001b[0m\u001b[1;33m)\u001b[0m\u001b[1;33m]\u001b[0m\u001b[1;33m\u001b[0m\u001b[1;33m\u001b[0m\u001b[0m\n\u001b[0;32m     16\u001b[0m \u001b[1;33m\u001b[0m\u001b[0m\n",
      "\u001b[1;31mNameError\u001b[0m: name 'np' is not defined"
     ]
    }
   ],
   "source": [
    "# get dividend growth per year\n",
    "dividends_new = pd.DataFrame()\n",
    "# remove current year line as it cannot be complete and we are interested in historical data\n",
    "\n",
    "dividends_new['yearlyDividendValue'] = dividends.resample(\"A\")[\"adjDividend\"].sum()\n",
    "dividends_new['dividendGrowth'] = dividends_new.pct_change()\n",
    "dividends_new = dividends_new.sort_index(ascending=False)\n",
    "\n",
    "# mask out row of current year\n",
    "mask = (dividends_new.index <= (str(this_year-1)+'-12-31'))\n",
    "dividends_new_filtered=dividends_new.loc[mask]\n",
    "\n",
    "# find first missing dividend value (for AAPL a lot of years are missing) and cut all below\n",
    "dividends_new_filtered['yearlyDividendValue'] = dividends_new_filtered['yearlyDividendValue'].replace({'0':np.nan, 0:np.nan})\n",
    "dividends_new_cut = dividends_new_filtered[:dividends_new_filtered['yearlyDividendValue'].isnull().argmax()]\n",
    "\n",
    "print (dividends_new_filtered)"
   ]
  },
  {
   "cell_type": "code",
   "execution_count": null,
   "metadata": {},
   "outputs": [],
   "source": []
  }
 ]
}