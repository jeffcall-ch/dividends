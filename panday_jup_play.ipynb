{
 "metadata": {
  "language_info": {
   "codemirror_mode": {
    "name": "ipython",
    "version": 3
   },
   "file_extension": ".py",
   "mimetype": "text/x-python",
   "name": "python",
   "nbconvert_exporter": "python",
   "pygments_lexer": "ipython3",
   "version": "3.9.0-final"
  },
  "orig_nbformat": 2,
  "kernelspec": {
   "name": "python3",
   "display_name": "Python 3.9.0 64-bit",
   "metadata": {
    "interpreter": {
     "hash": "fb83064361a861f30404a56c736035f5f4bd6d546f50dcea4699849bf1fd6680"
    }
   }
  }
 },
 "nbformat": 4,
 "nbformat_minor": 2,
 "cells": [
  {
   "cell_type": "code",
   "execution_count": 5,
   "metadata": {},
   "outputs": [],
   "source": [
    "import pathlib\n",
    "import pandas as pd\n",
    "import os\n",
    "\n",
    "\n",
    "python_repo_home_folder = pathlib.Path.home() / \"Python\" / \"Python_repos\" / \"dividends\"\n",
    "dripinvesting_folder = python_repo_home_folder / \"excel_files\" / \"dripinvesting\"\n",
    "\n",
    "def getListOfFiles(dirName):\n",
    "    listOfFile = os.listdir(dirName)\n",
    "    allFiles = list()\n",
    "    for entry in listOfFile:\n",
    "        fullPath = os.path.join(dirName, entry)\n",
    "        if os.path.isfile(fullPath):\n",
    "            allFiles.append(fullPath)       \n",
    "    return allFiles     \n",
    "\n",
    "# import latest dripinvesting excel file into pandas\n",
    "listOfFiles = getListOfFiles(dripinvesting_folder.as_posix())\n",
    "\n",
    "# read the excel file\n",
    "# combine rows 4-5 to be the header. By doing this the real pandas df will start from the header (and you don't need to drop rows..)\n",
    "# note that in case the top cell is empty, then it will use the closest top cell value to the left.\n",
    "# EXAMPLE: \"TickerSymbol\" column (col \"B\" in excel) name is correct. But the next column is empty top cell and \"Sector\" bottom cell (col \"C\" in excel). \n",
    "#           Now it will be \"TickerSector\"\n",
    "df = pd.read_excel(listOfFiles[0], sheet_name='All CCC', header=[4,5])\n",
    "\n",
    "# flatten the multi index header: https://stackoverflow.com/questions/41931332/how-do-i-flatten-a-hierarchical-column-index-in-a-pandas-dataframe\n",
    "df.columns = df.columns.map(lambda x: ''.join([*map(str, x)]))\n"
   ]
  },
  {
   "cell_type": "code",
   "execution_count": 6,
   "metadata": {},
   "outputs": [
    {
     "output_type": "stream",
     "name": "stdout",
     "text": [
      "                            CompanyName TickerSymbol            TickerSector  \\\n7                   Abbott Laboratories          ABT             Health Care   \n10                   Agree Realty Corp.          ADC             Real Estate   \n14                          Ameren Corp          AEE               Utilities   \n16           Agnico Eagle Mines Limited          AEM               Materials   \n30                          Allete Inc.          ALE               Utilities   \n38    American National Bankshares Inc.         AMNB              Financials   \n57                         Atmos Energy          ATO               Utilities   \n69                 American Water Works          AWK               Utilities   \n96             Bristol-Myers Squibb Co.          BMY             Health Care   \n138                Cincinnati Financial         CINF              Financials   \n168        Consolidated-Tomoka Land Co.          CTO             Real Estate   \n175            California Water Service          CWT               Utilities   \n178                      Dillard's Inc.          DDS  Consumer Discretionary   \n186  Diamond Hill Investment Group Inc.         DHIL              Financials   \n195             Duke Realty Corporation          DRE             Real Estate   \n200             Enterprise Bancorp Inc.         EBTC              Financials   \n227                  Exelon Corporation          EXC               Utilities   \n281         Greene County Bancorp, Inc.         GCBC              Financials   \n293            Goldman Sachs Group Inc.           GS              Financials   \n308     Hingham Institution for Savings         HIFS              Financials   \n354                           ITT Corp.          ITT             Industrials   \n366          Kimball International Inc.         KBAL             Industrials   \n391                 Eli Lilly & Company          LLY             Health Care   \n425                     MGE Energy Inc.         MGEE               Utilities   \n443                     Merck & Company          MRK             Health Care   \n468           Northeast Indiana Bancorp         NIDB              Financials   \n498          Old Republic International          ORI              Financials   \n502                    Otter Tail Corp.         OTTR               Utilities   \n588                Sherwin-Williams Co.          SHW               Materials   \n589      Selective Insurance Group Inc.         SIGI              Financials   \n627                         Sysco Corp.          SYY        Consumer Staples   \n646            Texas Pacific Land Trust          TPL                  Energy   \n662    Calvin B. Taylor Bankshares Inc.         TYCB              Financials   \n664              United Bankshares Inc.         UBSI              Financials   \n\n                                   TickerIndustry  No.Yrs  CCCSeq DRIP FeesDR  \\\n7                Health Care Equipment & Supplies     8.0   605.0           N   \n10   Equity Real Estate Investment Trusts (REITs)     9.0   564.0           N   \n14                                Multi-Utilities     7.0   672.0           -   \n16                                Metals & Mining     5.0     NaN           -   \n30                             Electric Utilities    10.0   361.0           N   \n38                                          Banks     6.0   710.0           -   \n57                                  Gas Utilities    37.0    74.0           N   \n69                                Water Utilities    13.0   274.0           Y   \n96                                Pharmaceuticals    12.0   297.0           Y   \n138                                     Insurance    60.0     9.0           N   \n168          Real Estate Management & Development     8.0   566.0           -   \n175                               Water Utilities    53.0    19.0           N   \n178                              Multiline Retail    10.0   442.0           -   \n186                               Capital Markets     7.0   670.0           -   \n195  Equity Real Estate Investment Trusts (REITs)     6.0   715.0           -   \n200                                         Banks    28.0   102.0           N   \n227                            Electric Utilities     5.0   728.0           -   \n281                    Thrifts & Mortgage Finance     7.0   641.0           -   \n293                               Capital Markets    10.0   436.0           -   \n308                    Thrifts & Mortgage Finance    14.0   278.0           -   \n354                                     Machinery     8.0   554.0           N   \n366                Commercial Services & Supplies     6.0   713.0           -   \n391                               Pharmaceuticals     7.0   683.0           -   \n425                            Electric Utilities    45.0    56.0           N   \n443                               Pharmaceuticals    10.0   450.0           Y   \n468                    Thrifts & Mortgage Finance    26.0   130.0           -   \n498                                     Insurance    39.0    67.0           N   \n502                            Electric Utilities     7.0   615.0           N   \n588                                     Chemicals    42.0    63.0           N   \n589                                     Insurance     7.0   668.0           -   \n627                      Food & Staples Retailing    50.0    29.0           N   \n646                   Oil, Gas & Consumable Fuels    15.0   253.0           -   \n662                                         Banks    31.0     NaN           -   \n664                                         Banks    45.0    52.0           N   \n\n    DRIP FeesSP  2020-12-31 00:00:00Price  Div.Yield  ...  Est. Payback%  \\\n7             N                    109.49   1.643986  ...       8.832294   \n10            N                     66.58   3.724842  ...      19.588917   \n14            -                     78.06   2.638996  ...      14.478958   \n16            -                     70.51   1.985534  ...       9.048120   \n30            N                     61.94   3.987730  ...      24.634368   \n38            -                     26.21   4.120565  ...      22.011306   \n57            N                     95.43   2.619721  ...      15.633962   \n69            Y                    153.47   1.433505  ...       9.101957   \n96            Y                     62.03   3.159761  ...      17.893071   \n138           N                     87.37   2.746938  ...      16.242281   \n168           -                     42.16   9.487666  ...      25.904218   \n175           N                     54.03   1.573200  ...       9.050182   \n178           -                     63.05   0.951626  ...       5.384307   \n186           -                    149.27   8.039124  ...      46.948880   \n195           -                     39.97   2.551914  ...      15.355401   \n200           -                     25.55   2.739726  ...      16.000135   \n227           -                     42.22   3.623875  ...      20.333945   \n281           -                     25.49   1.883091  ...      10.270855   \n293           -                    263.71   1.896022  ...      11.691159   \n308           -                    216.00   0.870370  ...       4.623372   \n354           N                     77.02   0.877694  ...       5.116382   \n366           -                     11.95   3.012552  ...      19.201178   \n391           -                    168.84   2.013741  ...      11.614984   \n425           N                     70.03   2.113380  ...      11.929998   \n443           Y                     81.80   3.178484  ...      18.883476   \n468           -                     40.00   2.800000  ...      14.901417   \n498           Y                     19.71   4.261796  ...      26.662440   \n502           N                     42.61   3.473363  ...      21.413769   \n588           N                    734.91   0.729341  ...       4.862502   \n589           -                     66.98   1.492983  ...       8.530180   \n627           Y                     74.26   2.423916  ...      14.946232   \n646           -                    727.00   1.375516  ...       8.476188   \n662           -                     35.25   3.290780  ...      17.374806   \n664           N                     32.40   4.320988  ...      24.946013   \n\n     5-yrBeta  52-wkLow 52-wkHigh  50-dayMMA 200-dayMMA 200-dayOTC  \\\n7        0.83     77.71     -4.91       0.65      10.78        NaN   \n10       0.26     47.20    -17.30       2.02       3.01        NaN   \n14       0.21     32.89    -10.95      -2.27       1.77        NaN   \n16       0.64    127.45    -20.98      -3.48       2.74        NaN   \n30       0.40     28.45    -26.88       8.04       9.65        NaN   \n38       1.11     41.42    -34.88       1.29       9.69        NaN   \n57       0.30     22.47    -21.18      -1.26      -3.43        NaN   \n69       0.19     66.82    -11.06      -0.27      10.57        NaN   \n96       0.66     35.56     -9.23       0.45       3.37        NaN   \n138      0.58     89.65    -24.37       9.48      17.21        NaN   \n168      0.73     29.11    -34.64      -2.19       2.61        NaN   \n175      0.07     35.96     -5.80       7.65      13.10        NaN   \n178      0.75    193.24    -15.36      26.44      78.67        NaN   \n186      0.99    115.16     -2.89       5.25      30.46        NaN   \n195      0.53     58.67     -8.01       2.52       9.31        NaN   \n200      0.46     32.56    -24.83       1.62       9.69        NaN   \n227      0.40     44.19    -16.46       0.69      10.07        NaN   \n281      0.48     69.82    -15.74       2.19      10.90        NaN   \n293      1.48    101.54      0.40      16.63      30.74        NaN   \n308      0.87     72.60     -5.79      -0.23      19.10        NaN   \n354      1.55    117.51     -3.28       7.50      27.96        NaN   \n366      0.86     45.91    -45.08       4.44       6.11        NaN   \n391      0.35     44.23     -2.91      13.19      11.55        NaN   \n425      0.48     48.40    -15.89       0.35       5.77        NaN   \n443      0.44     25.36    -11.22       2.13       2.32        NaN   \n468       NaN       NaN       NaN        NaN        NaN        OTC   \n498      0.77     65.91    -16.55       9.15      20.81        NaN   \n502      0.31     37.65    -25.11       3.12       5.28        NaN   \n588      1.02    125.83     -3.05       2.58      17.36        NaN   \n589      0.83     80.78     -5.52       8.77      22.13        NaN   \n627      1.37    185.62    -13.44       6.88      26.05        NaN   \n646      2.10    150.06    -11.20      23.32      35.64        NaN   \n662       NaN       NaN       NaN        NaN        NaN        OTC   \n664      1.35     64.72    -17.07      10.79      20.94        NaN   \n\n     StreakBegan  RecessionsSurvived  TTMROA  \n7         2014.0                 0.0     5.0  \n10        2013.0                 0.0     2.9  \n14        2014.0                 0.0     2.9  \n16        2016.0                 0.0     6.9  \n30        2011.0                 0.0     3.1  \n38        2015.0                 0.0     1.1  \n57        1985.0                 3.0     4.1  \n69        2008.0                 1.0     2.8  \n96        2010.0                 0.0     0.0  \n138       1961.0                 6.0     3.2  \n168       2013.0                 0.0    13.6  \n175       1968.0                 6.0     2.8  \n178       2012.0                 0.0    -2.2  \n186       2014.0                 0.0    14.5  \n195       2015.0                 0.0     2.5  \n200       1995.0                 2.0     0.8  \n227       2016.0                 0.0     1.9  \n281       2014.0                 0.0     1.2  \n293       2011.0                 0.0     0.6  \n308       2008.0                 1.0     1.7  \n354       2013.0                 0.0     3.7  \n366       2015.0                 0.0     9.2  \n391       2015.0                 0.0    13.4  \n425       1976.0                 4.0     4.4  \n443       2012.0                 0.0    13.2  \n468       1996.0                 2.0     NaN  \n498       1982.0                 3.0     1.5  \n502       2014.0                 0.0     4.1  \n588       1979.0                 4.0     9.1  \n589       2014.0                 0.0     2.2  \n627       1971.0                 5.0    -0.1  \n646       2004.0                 1.0    32.8  \n662       1992.0                 2.0     NaN  \n664       1975.0                 4.0     1.1  \n\n[34 rows x 59 columns]\n"
     ]
    }
   ],
   "source": [
    "# drop last rows of summary where not individual companies are shown but sector performance\n",
    "df = df.dropna(subset=['TickerSector'])\n",
    "\n",
    "# select only rows where DGR is not showing a decreasing trend\n",
    "df = df[(df['DGR1-yr']>=df['DGR3-yr']) & (df['DGR3-yr']>=df['DGR5-yr']) & (df['DGR5-yr']>=df['DGR10-yr'])]\n",
    "\n",
    "print(df)"
   ]
  },
  {
   "cell_type": "code",
   "execution_count": null,
   "metadata": {},
   "outputs": [],
   "source": []
  }
 ]
}