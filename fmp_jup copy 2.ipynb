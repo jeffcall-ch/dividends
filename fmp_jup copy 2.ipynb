{
 "metadata": {
  "language_info": {
   "codemirror_mode": {
    "name": "ipython",
    "version": 3
   },
   "file_extension": ".py",
   "mimetype": "text/x-python",
   "name": "python",
   "nbconvert_exporter": "python",
   "pygments_lexer": "ipython3",
   "version": "3.9.0-final"
  },
  "orig_nbformat": 2,
  "kernelspec": {
   "name": "python3",
   "display_name": "Python 3.9.0 64-bit ('env')",
   "metadata": {
    "interpreter": {
     "hash": "fb83064361a861f30404a56c736035f5f4bd6d546f50dcea4699849bf1fd6680"
    }
   }
  }
 },
 "nbformat": 4,
 "nbformat_minor": 2,
 "cells": [
  {
   "cell_type": "code",
   "execution_count": 1,
   "metadata": {},
   "outputs": [],
   "source": [
    "import pandas as pd\n",
    "from datetime import datetime\n",
    "\n",
    "dividends = pd.read_csv(r'C:\\Users\\50000700\\Python\\Python_repos\\dividends\\excel_files\\dividends_raw.csv')\n",
    "cf_statements = pd.read_csv(r'C:\\Users\\50000700\\Python\\Python_repos\\dividends\\excel_files\\cf_statements.csv')\n",
    "fin_statements = pd.read_csv(r'C:\\Users\\50000700\\Python\\Python_repos\\dividends\\excel_files\\income_statements.csv')"
   ]
  }
 ]
}