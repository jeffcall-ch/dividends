{
 "metadata": {
  "language_info": {
   "codemirror_mode": {
    "name": "ipython",
    "version": 3
   },
   "file_extension": ".py",
   "mimetype": "text/x-python",
   "name": "python",
   "nbconvert_exporter": "python",
   "pygments_lexer": "ipython3",
   "version": "3.9.0-final"
  },
  "orig_nbformat": 2,
  "kernelspec": {
   "name": "python3",
   "display_name": "Python 3.9.0 64-bit ('env')",
   "metadata": {
    "interpreter": {
     "hash": "fb83064361a861f30404a56c736035f5f4bd6d546f50dcea4699849bf1fd6680"
    }
   }
  }
 },
 "nbformat": 4,
 "nbformat_minor": 2,
 "cells": [
  {
   "cell_type": "code",
   "execution_count": 1,
   "metadata": {},
   "outputs": [],
   "source": [
    "from fmp_python.fmp import FMP\n",
    "import os\n",
    "import pandas as pd\n",
    "from SP500_div_yield_crawler import SP500\n",
    "\n",
    "os.environ[\"FMP_API_KEY\"] = \"606d643d87241cde956b5cd85a3c56d1\"\n",
    "fmp = FMP()"
   ]
  },
  {
   "cell_type": "code",
   "execution_count": 2,
   "metadata": {
    "tags": []
   },
   "outputs": [],
   "source": [
    "# freeCashFlow\n",
    "# dividendsPaid\n",
    "cfStatement = fmp.get_data_from_api('ABT', 'cash-flow-statement')\n",
    "# set proper DateTime object as the index of the dataframe\n",
    "cfStatement['Datetime'] = pd.to_datetime(cfStatement['date'])\n",
    "cfStatement = cfStatement.set_index('Datetime')\n",
    "\n",
    "# eps\n",
    "# epsdiluted\n",
    "incomeStatement = fmp.get_data_from_api('ABT', 'income-statement')\n",
    "# set proper DateTime object as the index of the dataframe\n",
    "incomeStatement['Datetime'] = pd.to_datetime(incomeStatement['date'])\n",
    "incomeStatement = incomeStatement.set_index('Datetime')\n",
    "\n"
   ]
  },
  {
   "cell_type": "code",
   "execution_count": 3,
   "metadata": {},
   "outputs": [],
   "source": [
    "# dividend, date  - historical dividend values and dates\n",
    "dividends = fmp.get_dividends('ABT', 'historical-price-full/stock_dividend')\n",
    "\n",
    "# set proper DateTime object as the index of the dataframe\n",
    "dividends['Datetime'] = pd.to_datetime(dividends['date'])\n",
    "dividends = dividends.set_index('Datetime')\n",
    "\n",
    "# resample annually and sum dividend values. Note that year end (Dec 31) will be shown for all groups\n",
    "dividends = dividends.resample(\"A\")[\"dividend\"].sum()\n",
    "# dividends.dtypes"
   ]
  },
  {
   "cell_type": "code",
   "execution_count": 4,
   "metadata": {},
   "outputs": [],
   "source": [
    "# S&P 500 realtime price\n",
    "# https://financialmodelingprep.com/api/v3/quote/%5EGSPC?apikey=606d643d87241cde956b5cd85a3c56d1\n",
    "\n",
    "# S&P 500 dividends\n",
    "# https://financialmodelingprep.com/api/v3/historical-price-full/stock_dividend/spy?apikey=606d643d87241cde956b5cd85a3c56d1\n",
    "\n",
    "# dividend, date  - historical dividend values and dates for S&P 500\n",
    "dividendsSP500 = fmp.get_dividends('SPY', 'historical-price-full/stock_dividend')\n",
    "\n",
    "# set proper DateTime object as the index of the dataframe\n",
    "dividendsSP500['Datetime'] = pd.to_datetime(dividendsSP500['date'])\n",
    "dividendsSP500 = dividendsSP500.set_index('Datetime')\n",
    "\n",
    "# resample annually and sum dividend values. Note that year end (Dec 31) will be shown for all groups\n",
    "dividendsSP500 = dividendsSP500.resample(\"A\")[\"adjDividend\"].sum()\n",
    "# dividends.dtypes"
   ]
  },
  {
   "cell_type": "code",
   "execution_count": 5,
   "metadata": {},
   "outputs": [
    {
     "output_type": "error",
     "ename": "NameError",
     "evalue": "name 'SP500' is not defined",
     "traceback": [
      "\u001b[1;31m---------------------------------------------------------------------------\u001b[0m",
      "\u001b[1;31mNameError\u001b[0m                                 Traceback (most recent call last)",
      "\u001b[1;32m<ipython-input-5-85267ab7c02a>\u001b[0m in \u001b[0;36m<module>\u001b[1;34m\u001b[0m\n\u001b[0;32m      1\u001b[0m \u001b[1;31m# crawl S&P500 dividend yield from https://www.multpl.com/s-p-500-dividend-yield\u001b[0m\u001b[1;33m\u001b[0m\u001b[1;33m\u001b[0m\u001b[1;33m\u001b[0m\u001b[0m\n\u001b[1;32m----> 2\u001b[1;33m \u001b[0msp500\u001b[0m \u001b[1;33m=\u001b[0m \u001b[0mSP500\u001b[0m\u001b[1;33m(\u001b[0m\u001b[1;33m)\u001b[0m\u001b[1;33m\u001b[0m\u001b[1;33m\u001b[0m\u001b[0m\n\u001b[0m\u001b[0;32m      3\u001b[0m \u001b[0mprint\u001b[0m \u001b[1;33m(\u001b[0m\u001b[0msp500\u001b[0m\u001b[1;33m.\u001b[0m\u001b[0mget_dividend_yield\u001b[0m\u001b[1;33m(\u001b[0m\u001b[1;33m)\u001b[0m\u001b[1;33m)\u001b[0m\u001b[1;33m\u001b[0m\u001b[1;33m\u001b[0m\u001b[0m\n",
      "\u001b[1;31mNameError\u001b[0m: name 'SP500' is not defined"
     ]
    }
   ],
   "source": [
    "# crawl S&P500 dividend yield from https://www.multpl.com/s-p-500-dividend-yield\n",
    "sp500 = SP500()\n",
    "print (sp500.get_dividend_yield())"
   ]
  }
 ]
}