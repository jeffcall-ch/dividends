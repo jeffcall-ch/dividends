{
 "metadata": {
  "language_info": {
   "codemirror_mode": {
    "name": "ipython",
    "version": 3
   },
   "file_extension": ".py",
   "mimetype": "text/x-python",
   "name": "python",
   "nbconvert_exporter": "python",
   "pygments_lexer": "ipython3",
   "version": "3.9.0"
  },
  "orig_nbformat": 2,
  "kernelspec": {
   "name": "python3",
   "display_name": "Python 3.9.0 64-bit ('env': venv)",
   "metadata": {
    "interpreter": {
     "hash": "fb83064361a861f30404a56c736035f5f4bd6d546f50dcea4699849bf1fd6680"
    }
   }
  }
 },
 "nbformat": 4,
 "nbformat_minor": 2,
 "cells": [
  {
   "cell_type": "code",
   "execution_count": 1,
   "metadata": {},
   "outputs": [],
   "source": [
    "import pandas as pd\n",
    "from dividend_processor_offline import DividendProcessor as DivProc\n",
    "import time\n",
    "import csv\n",
    "import logging\n",
    "import sys\n",
    "from SP500_div_yield_crawler import SP500\n",
    "\n",
    "def setup_custom_logger(name):\n",
    "    formatter = logging.Formatter(fmt='%(asctime)s %(levelname)-8s %(message)s',\n",
    "                                  datefmt='%Y-%m-%d %H:%M:%S')\n",
    "    handler = logging.FileHandler('log.txt', mode='w')\n",
    "    handler.setFormatter(formatter)\n",
    "    screen_handler = logging.StreamHandler(stream=sys.stdout)\n",
    "    screen_handler.setFormatter(formatter)\n",
    "    logger = logging.getLogger(name)\n",
    "    logger.setLevel(logging.DEBUG)\n",
    "    logger.addHandler(handler)\n",
    "    logger.addHandler(screen_handler)\n",
    "    return logger\n",
    "logger = setup_custom_logger('myapp')\n",
    "\n",
    "start_time = time.time()\n",
    "\n",
    "file_names = [r'\\dividend.csv', r'\\stock_split.csv', r'\\cashflow.csv', r'\\income.csv', r'\\price.csv']\n",
    "\n",
    "dividend = pd.read_csv(r'C:\\Users\\50000700\\Python\\Python_repos\\dividends\\excel_files' + file_names[0], index_col=[0])\n",
    "# drop all rows, where the dividend is missing. However adjdividend may be present, but is not valueable for us.\n",
    "# dividend = dividend[dividend['dividend'].notna()]\n",
    "stock_split = pd.read_csv(r'C:\\Users\\50000700\\Python\\Python_repos\\dividends\\excel_files' + file_names[1], index_col=[0])\n",
    "cashflow = pd.read_csv(r'C:\\Users\\50000700\\Python\\Python_repos\\dividends\\excel_files' + file_names[2], index_col=[0])\n",
    "income = pd.read_csv(r'C:\\Users\\50000700\\Python\\Python_repos\\dividends\\excel_files' + file_names[3], index_col=[0])\n",
    "price = pd.read_csv(r'C:\\Users\\50000700\\Python\\Python_repos\\dividends\\excel_files' + file_names[4], index_col=[0])"
   ]
  },
  {
   "cell_type": "code",
   "execution_count": 2,
   "metadata": {},
   "outputs": [
    {
     "output_type": "stream",
     "name": "stdout",
     "text": [
      "2021-02-20 18:54:24 INFO     'DividendProcessor' object has no attribute 'getget_dividend_frequency_all_years'\n"
     ]
    }
   ],
   "source": [
    "ticker = 'PM'\n",
    "\n",
    "current_div_raw = dividend[dividend[\"Symbol\"]==ticker].copy()\n",
    "current_div_raw[\"Datetime\"] = pd.to_datetime(current_div_raw['date'])\n",
    "current_div_raw = current_div_raw.set_index('Datetime')\n",
    "# current_div_raw.drop(current_div_raw.columns[1,2,3], axis=1, inplace=True)\n",
    "\n",
    "current_price = price[price[\"Symbol\"]==ticker]\n",
    "\n",
    "current_split = stock_split[stock_split[\"Symbol\"]==ticker]\n",
    "current_split[\"Datetime\"] = pd.to_datetime(current_split['date'])\n",
    "current_split = current_split.set_index('Datetime')\n",
    "\n",
    "\n",
    "\n",
    "current_divproc = DivProc(ticker, current_div_raw, current_price, current_split)\n",
    "failed_to_process_list = []\n",
    "try:\n",
    "    dividend_freq_per_year = current_divproc.get_dividend_frequency_all_years()\n",
    "    corrigated_dividends = current_divproc.get_split_corrigated_dividends()\n",
    "    dividend_growth_per_year = current_divproc.get_dividend_growth_per_year()\n",
    "    \n",
    "    # dgr_3_5yr = current_divproc.get_DGR_3_5yr()\n",
    "\n",
    "    dividends_per_year = current_div_raw.resample(\"A\")[\"dividend\"].sum()\n",
    "\n",
    "    if not current_split.empty:\n",
    "        corrigated_dividends_per_year = pd.DataFrame()\n",
    "        corrigated_dividends_per_year['yearlyDividendValue'] = corrigated_dividends.resample(\"A\")[\"dividend_split_corrigated\"].sum()\n",
    "\n",
    "    # dividends_per_year = current_divproc.get_dividends_per_year()\n",
    "    forward_dividend = current_divproc.get_forward_dividend()\n",
    "    dividend_yield = current_divproc.get_dividend_yield()\n",
    "    dividend_growth_per_year = current_divproc.get_dividend_growth_per_year()\n",
    "    dgr_3_5_yr = current_divproc.get_DGR_3_5yr()\n",
    "except Exception as Argument:  \n",
    "    failed_to_process_list.append(ticker)\n",
    "    logger.info(Argument)"
   ]
  }
 ]
}